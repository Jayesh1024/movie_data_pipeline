{
 "cells": [
  {
   "cell_type": "code",
   "execution_count": 1,
   "metadata": {},
   "outputs": [
    {
     "name": "stderr",
     "output_type": "stream",
     "text": [
      "Setting default log level to \"WARN\".\n",
      "To adjust logging level use sc.setLogLevel(newLevel). For SparkR, use setLogLevel(newLevel).\n",
      "24/11/16 12:06:04 WARN NativeCodeLoader: Unable to load native-hadoop library for your platform... using builtin-java classes where applicable\n"
     ]
    }
   ],
   "source": [
    "from pyspark.sql import SparkSession\n",
    "from pyspark.sql.types import *\n",
    "from pyspark.sql.functions import explode\n",
    "import os\n",
    "spark=(\n",
    "    SparkSession.builder\n",
    "    .master('local[3]')\n",
    "    .appName('transformApp')\n",
    "    .getOrCreate()\n",
    ")\n"
   ]
  },
  {
   "cell_type": "code",
   "execution_count": 2,
   "metadata": {},
   "outputs": [
    {
     "name": "stderr",
     "output_type": "stream",
     "text": [
      "                                                                                \r"
     ]
    }
   ],
   "source": [
    "\n",
    "df_boxoffice=spark.read.json('collection_parsed_2024116.json',multiLine=True)\n",
    "df_movie_raw=spark.read.json('movies_parsed_2024116.json',multiLine=True)\n",
    "df_filmmaker_raw=spark.read.json('filmmaker_parsed_2024116.json',multiLine=True)\n",
    "df_genre_raw=spark.read.json('genre_parsed_2024116.json',multiLine=True)\n",
    "df_distributor_raw=spark.read.json('distributor_parsed_2024116.json',multiLine=True)\n"
   ]
  },
  {
   "cell_type": "code",
   "execution_count": 3,
   "metadata": {},
   "outputs": [],
   "source": [
    "df_movie=(\n",
    "    df_movie_raw.select(explode(df_movie_raw.content).alias('movies'),'extracted_at','run_date')\n",
    "        .select('movies.*','extracted_at','run_date')\n",
    "        \n",
    ")\n",
    "df_genre=(\n",
    "    df_genre_raw.select(explode(df_genre_raw.content).alias('genre'),'extracted_at','run_date')\n",
    "        .select('genre.*','extracted_at','run_date')\n",
    "        \n",
    "\n",
    ")\n",
    "\n",
    "df_filmmaker=(\n",
    "    df_filmmaker_raw.select(explode(df_filmmaker_raw.content).alias('filmmaker'),'extracted_at','run_date')\n",
    "        .select('filmmaker.*','extracted_at','run_date')\n",
    "        \n",
    ")\n",
    "\n",
    "df_distributor=(\n",
    "    df_distributor_raw.select(explode(df_distributor_raw.content).alias('distributor'),'extracted_at','run_date')\n",
    "        .select('distributor.*','extracted_at','run_date')\n",
    "        \n",
    ")\n"
   ]
  },
  {
   "cell_type": "code",
   "execution_count": 4,
   "metadata": {},
   "outputs": [],
   "source": [
    "# Bridge table b/w movies and genre dimension\n",
    "bridge_movie_genre=df_genre.select('genre_id','movie_id')\n",
    "\n",
    "\n",
    "# Bridge table b/w movies and filmmaker dimension\n",
    "bridge_filmmaker_movie=(\n",
    "    df_movie.withColumn('filmmaker',explode(df_movie['filmmakers']))\n",
    "        .select('filmmaker','movie_id')\n",
    "        .select('filmmaker.filmmaker_id','filmmaker.role','movie_id')\n",
    "        \n",
    ")"
   ]
  },
  {
   "cell_type": "code",
   "execution_count": 5,
   "metadata": {},
   "outputs": [],
   "source": [
    "# Removing the duplicate values from dim_genre and dim_filmmaker which got created due to the many to many relationship b/w (genre,filmmaker) and movies\n",
    "# Also dropping the movie_id as it does not match the dimension model schema for the corresponding dims\n",
    "df_genre=(\n",
    "    df_genre.dropDuplicates(['genre_id'])\n",
    "            .drop('movie_id')\n",
    ")\n",
    "df_filmmaker=(\n",
    "    df_filmmaker.dropDuplicates(['filmmaker_id'])\n",
    "                .drop('movie_id')\n",
    ")"
   ]
  },
  {
   "cell_type": "code",
   "execution_count": null,
   "metadata": {},
   "outputs": [],
   "source": [
    "df_movie=(\n",
    "    df_movie.withColumns({\n",
    "    \"release_date_id\":df_movie.release_date_id.cast(IntegerType()),\n",
    "    \"duration\":df_movie.duration.cast(IntegerType()),\n",
    "    \"widest_release\":df_movie.widest_release.cast(IntegerType()),\n",
    "    \"imdb_rating\":df_movie.imdb_rating.cast(FloatType()),\n",
    "    \"num_of_rating\":df_movie.num_of_rating.cast(IntegerType()),\n",
    "    \"extracted_at\":df_movie.extracted_at.cast(IntegerType()),\n",
    "    \"run_date\":df_movie.run_date.cast(IntegerType())\n",
    "    })\n",
    ")\n",
    "\n",
    "df_genre=(\n",
    "    df_genre.withColumns({\n",
    "        \"total_movies\":df_genre.total_movies.cast(IntegerType()),\n",
    "        \"extracted_at\":df_genre.extracted_at.cast(IntegerType()),\n",
    "        \"run_date\":df_genre.run_date.cast(IntegerType())\n",
    "    })\n",
    ")\n",
    "\n",
    "df_filmmaker=(\n",
    "    df_filmmaker.withColumns({\n",
    "        \"dob\":df_filmmaker.dob.cast(DateType()),\n",
    "        \"total_movies\":df_filmmaker.total_movies.cast(IntegerType()),\n",
    "        \"extracted_at\":df_filmmaker.extracted_at.cast(IntegerType()),\n",
    "        \"run_date\":df_filmmaker.run_date.cast(IntegerType())\n",
    "    })\n",
    ")\n",
    "\n",
    "df_distributor=(\n",
    "    df_distributor.withColumns({\n",
    "        \"total_movies\":df_distributor.total_movies.cast(IntegerType()),\n",
    "        \"extracted_at\":df_distributor.extracted_at.cast(IntegerType()),\n",
    "        \"run_date\":df_distributor.run_date.cast(IntegerType())\n",
    "    })\n",
    ")\n",
    "\n",
    "df_boxoffice=(\n",
    "    df_boxoffice.withColumns({\n",
    "        \"run_date\":df_boxoffice.run_date.cast(IntegerType()),\n",
    "        \"collection_domestic\":df_boxoffice.collection_domestic.cast(FloatType()),\n",
    "        \"days_post_release\":df_boxoffice.days_post_release.cast(IntegerType()),\n",
    "        \"num_of_releases\":df_boxoffice.num_of_releases.cast(IntegerType()),\n",
    "        \"rank\":df_boxoffice.rank.cast(IntegerType()),\n",
    "        \"num_theatres\":df_boxoffice.num_theatres.cast(IntegerType()),\n",
    "        \"extracted_at\":df_boxoffice.extracted_at.cast(IntegerType())\n",
    "    })\n",
    ")\n",
    "\n",
    "\n"
   ]
  },
  {
   "cell_type": "code",
   "execution_count": null,
   "metadata": {},
   "outputs": [],
   "source": [
    "#TODO\n",
    "    # 1. Add fields listed in the data model to the corresponding DataFrames\n",
    "    # 2. Check for possible undesired values in every DataFrames' fields and fix it by replacing it with the desired value so everything can be casted properly."
   ]
  }
 ],
 "metadata": {
  "kernelspec": {
   "display_name": "my-kernel",
   "language": "python",
   "name": "my-kernel"
  },
  "language_info": {
   "codemirror_mode": {
    "name": "ipython",
    "version": 3
   },
   "file_extension": ".py",
   "mimetype": "text/x-python",
   "name": "python",
   "nbconvert_exporter": "python",
   "pygments_lexer": "ipython3",
   "version": "3.12.2"
  }
 },
 "nbformat": 4,
 "nbformat_minor": 2
}
